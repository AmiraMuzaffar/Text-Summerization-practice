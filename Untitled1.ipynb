{
 "cells": [
  {
   "cell_type": "code",
   "execution_count": 12,
   "metadata": {},
   "outputs": [
    {
     "name": "stdout",
     "output_type": "stream",
     "text": [
      "Requirement already satisfied: tweepy in c:\\users\\bot-pc\\anaconda3\\lib\\site-packages (3.10.0)\n",
      "Requirement already satisfied: requests-oauthlib>=0.7.0 in c:\\users\\bot-pc\\anaconda3\\lib\\site-packages (from tweepy) (1.3.0)\n",
      "Requirement already satisfied: requests[socks]>=2.11.1 in c:\\users\\bot-pc\\anaconda3\\lib\\site-packages (from tweepy) (2.22.0)\n",
      "Requirement already satisfied: six>=1.10.0 in c:\\users\\bot-pc\\anaconda3\\lib\\site-packages (from tweepy) (1.12.0)\n",
      "Requirement already satisfied: oauthlib>=3.0.0 in c:\\users\\bot-pc\\anaconda3\\lib\\site-packages (from requests-oauthlib>=0.7.0->tweepy) (3.1.0)\n",
      "Requirement already satisfied: certifi>=2017.4.17 in c:\\users\\bot-pc\\anaconda3\\lib\\site-packages (from requests[socks]>=2.11.1->tweepy) (2019.9.11)\n",
      "Requirement already satisfied: urllib3!=1.25.0,!=1.25.1,<1.26,>=1.21.1 in c:\\users\\bot-pc\\anaconda3\\lib\\site-packages (from requests[socks]>=2.11.1->tweepy) (1.24.2)\n",
      "Requirement already satisfied: chardet<3.1.0,>=3.0.2 in c:\\users\\bot-pc\\anaconda3\\lib\\site-packages (from requests[socks]>=2.11.1->tweepy) (3.0.4)\n",
      "Requirement already satisfied: idna<2.9,>=2.5 in c:\\users\\bot-pc\\anaconda3\\lib\\site-packages (from requests[socks]>=2.11.1->tweepy) (2.8)\n",
      "Requirement already satisfied: PySocks!=1.5.7,>=1.5.6; extra == \"socks\" in c:\\users\\bot-pc\\anaconda3\\lib\\site-packages (from requests[socks]>=2.11.1->tweepy) (1.7.1)\n",
      "Note: you may need to restart the kernel to use updated packages.\n"
     ]
    }
   ],
   "source": [
    "pip install tweepy"
   ]
  },
  {
   "cell_type": "code",
   "execution_count": 3,
   "metadata": {},
   "outputs": [],
   "source": [
    "import json\n",
    "import csv\n",
    "import tweepy\n",
    "import re"
   ]
  },
  {
   "cell_type": "code",
   "execution_count": 6,
   "metadata": {},
   "outputs": [],
   "source": [
    "def search_for_hashtags(consumer_key, consumer_secret, access_token, access_token_secret, hashtag_phrase):\n",
    "    \n",
    "    auth = tweepy.OAuthHandler(consumer_key, consumer_secret)\n",
    "    auth.set_access_token(access_token, access_token_secret)\n",
    "\n",
    "    api = tweepy.API(auth)\n",
    "    \n",
    "    fname = '_'.join(re.findall(r\"#(\\w+)\", hashtag_phrase))\n",
    "\n",
    "    with open('%s.csv' % (fname), 'w') as file:\n",
    "\n",
    "        w = csv.writer(file)\n",
    "\n",
    "        w.writerow(['tweet-text', 'retweet-count'])\n",
    "\n",
    "        for tweet in tweepy.Cursor(api.search, q=hashtag_phrase, \\\n",
    "                                   lang=\"en\", tweet_mode='extended').items(1200):\n",
    "            w.writerow([tweet.full_text.replace('\\n',' ').encode('utf-8'),tweet.retweet_count])"
   ]
  },
  {
   "cell_type": "code",
   "execution_count": 8,
   "metadata": {},
   "outputs": [
    {
     "name": "stdout",
     "output_type": "stream",
     "text": [
      "Consumer Key CV5jO2XwGx5tynhPCMuXTAG9l\n",
      "Consumer Secret XSBkkW34ku6MYg5WDLPOKkzQcLuuy8cFgRHGW0Faib1Lk4MtKR\n",
      "Access Token 1357905997600337920-012hITdhKrLFXFegW5cuNzNWsEmPUX\n",
      "Access Token Secret PPNMdKWjFr6nW99uRkpJ0oGw1V0UIuA2fQUIOAjXKmoFy\n",
      "Hashtag Phrase #covid\n"
     ]
    }
   ],
   "source": [
    "consumer_key = input('Consumer Key ')\n",
    "consumer_secret = input('Consumer Secret ')\n",
    "access_token = input('Access Token ')\n",
    "access_token_secret = input('Access Token Secret ')\n",
    "\n",
    "    \n",
    "hashtag_phrase = input('Hashtag Phrase ')\n",
    "\n",
    "if __name__ == '__main__':\n",
    "    search_for_hashtags(consumer_key, consumer_secret, access_token, access_token_secret, hashtag_phrase)"
   ]
  },
  {
   "cell_type": "code",
   "execution_count": 10,
   "metadata": {},
   "outputs": [],
   "source": [
    "import pandas as pd\n",
    "import numpy as np\n"
   ]
  },
  {
   "cell_type": "code",
   "execution_count": 11,
   "metadata": {},
   "outputs": [],
   "source": [
    "data = pd.read_csv(r'C:\\Users\\BOT-PC\\Desktop\\DM\\covid.csv')"
   ]
  },
  {
   "cell_type": "code",
   "execution_count": 13,
   "metadata": {},
   "outputs": [
    {
     "data": {
      "text/html": [
       "<div>\n",
       "<style scoped>\n",
       "    .dataframe tbody tr th:only-of-type {\n",
       "        vertical-align: middle;\n",
       "    }\n",
       "\n",
       "    .dataframe tbody tr th {\n",
       "        vertical-align: top;\n",
       "    }\n",
       "\n",
       "    .dataframe thead th {\n",
       "        text-align: right;\n",
       "    }\n",
       "</style>\n",
       "<table border=\"1\" class=\"dataframe\">\n",
       "  <thead>\n",
       "    <tr style=\"text-align: right;\">\n",
       "      <th></th>\n",
       "      <th>tweet-text</th>\n",
       "      <th>retweet-count</th>\n",
       "    </tr>\n",
       "  </thead>\n",
       "  <tbody>\n",
       "    <tr>\n",
       "      <td>0</td>\n",
       "      <td>b\"RT @nmsu: #NMSU has hosted weekly #COVID-19 ...</td>\n",
       "      <td>8</td>\n",
       "    </tr>\n",
       "    <tr>\n",
       "      <td>1</td>\n",
       "      <td>b'RT @scrowder: Of course, the party (and medi...</td>\n",
       "      <td>1705</td>\n",
       "    </tr>\n",
       "    <tr>\n",
       "      <td>2</td>\n",
       "      <td>b'To everyone who is in #covid #lockdown and f...</td>\n",
       "      <td>0</td>\n",
       "    </tr>\n",
       "    <tr>\n",
       "      <td>3</td>\n",
       "      <td>b'RT @AshwiniBhide: Had the first dose of #COV...</td>\n",
       "      <td>67</td>\n",
       "    </tr>\n",
       "    <tr>\n",
       "      <td>4</td>\n",
       "      <td>b'RT @scrowder: Of course, the party (and medi...</td>\n",
       "      <td>1705</td>\n",
       "    </tr>\n",
       "  </tbody>\n",
       "</table>\n",
       "</div>"
      ],
      "text/plain": [
       "                                          tweet-text  retweet-count\n",
       "0  b\"RT @nmsu: #NMSU has hosted weekly #COVID-19 ...              8\n",
       "1  b'RT @scrowder: Of course, the party (and medi...           1705\n",
       "2  b'To everyone who is in #covid #lockdown and f...              0\n",
       "3  b'RT @AshwiniBhide: Had the first dose of #COV...             67\n",
       "4  b'RT @scrowder: Of course, the party (and medi...           1705"
      ]
     },
     "execution_count": 13,
     "metadata": {},
     "output_type": "execute_result"
    }
   ],
   "source": [
    "data.head()\n"
   ]
  },
  {
   "cell_type": "code",
   "execution_count": 14,
   "metadata": {},
   "outputs": [
    {
     "data": {
      "text/plain": [
       "(1200, 2)"
      ]
     },
     "execution_count": 14,
     "metadata": {},
     "output_type": "execute_result"
    }
   ],
   "source": [
    "data.shape"
   ]
  },
  {
   "cell_type": "code",
   "execution_count": 24,
   "metadata": {},
   "outputs": [],
   "source": [
    "data.columns=['tweet_text','retweet_count']"
   ]
  },
  {
   "cell_type": "code",
   "execution_count": 25,
   "metadata": {},
   "outputs": [],
   "source": [
    "def get_target_column(retweet_count):\n",
    "    \n",
    "    if retweet_count > 1000:\n",
    "        return 'Class A'\n",
    "    else:\n",
    "        return 'Class B'\n",
    "    \n",
    "data['target'] = data['retweet_count'].apply(get_target_column)"
   ]
  },
  {
   "cell_type": "code",
   "execution_count": 26,
   "metadata": {},
   "outputs": [
    {
     "data": {
      "text/html": [
       "<div>\n",
       "<style scoped>\n",
       "    .dataframe tbody tr th:only-of-type {\n",
       "        vertical-align: middle;\n",
       "    }\n",
       "\n",
       "    .dataframe tbody tr th {\n",
       "        vertical-align: top;\n",
       "    }\n",
       "\n",
       "    .dataframe thead th {\n",
       "        text-align: right;\n",
       "    }\n",
       "</style>\n",
       "<table border=\"1\" class=\"dataframe\">\n",
       "  <thead>\n",
       "    <tr style=\"text-align: right;\">\n",
       "      <th></th>\n",
       "      <th>tweet_text</th>\n",
       "      <th>retweet_count</th>\n",
       "      <th>target</th>\n",
       "    </tr>\n",
       "  </thead>\n",
       "  <tbody>\n",
       "    <tr>\n",
       "      <td>0</td>\n",
       "      <td>b\"RT @nmsu: #NMSU has hosted weekly #COVID-19 ...</td>\n",
       "      <td>8</td>\n",
       "      <td>Class B</td>\n",
       "    </tr>\n",
       "    <tr>\n",
       "      <td>1</td>\n",
       "      <td>b'RT @scrowder: Of course, the party (and medi...</td>\n",
       "      <td>1705</td>\n",
       "      <td>Class A</td>\n",
       "    </tr>\n",
       "    <tr>\n",
       "      <td>2</td>\n",
       "      <td>b'To everyone who is in #covid #lockdown and f...</td>\n",
       "      <td>0</td>\n",
       "      <td>Class B</td>\n",
       "    </tr>\n",
       "    <tr>\n",
       "      <td>3</td>\n",
       "      <td>b'RT @AshwiniBhide: Had the first dose of #COV...</td>\n",
       "      <td>67</td>\n",
       "      <td>Class B</td>\n",
       "    </tr>\n",
       "    <tr>\n",
       "      <td>4</td>\n",
       "      <td>b'RT @scrowder: Of course, the party (and medi...</td>\n",
       "      <td>1705</td>\n",
       "      <td>Class A</td>\n",
       "    </tr>\n",
       "    <tr>\n",
       "      <td>...</td>\n",
       "      <td>...</td>\n",
       "      <td>...</td>\n",
       "      <td>...</td>\n",
       "    </tr>\n",
       "    <tr>\n",
       "      <td>1195</td>\n",
       "      <td>b'Doing some purging to pass the time and came...</td>\n",
       "      <td>0</td>\n",
       "      <td>Class B</td>\n",
       "    </tr>\n",
       "    <tr>\n",
       "      <td>1196</td>\n",
       "      <td>b'RT @lizmartinlabour: The sun setting on #bus...</td>\n",
       "      <td>4</td>\n",
       "      <td>Class B</td>\n",
       "    </tr>\n",
       "    <tr>\n",
       "      <td>1197</td>\n",
       "      <td>b'RT @scrowder: Of course, the party (and medi...</td>\n",
       "      <td>1705</td>\n",
       "      <td>Class A</td>\n",
       "    </tr>\n",
       "    <tr>\n",
       "      <td>1198</td>\n",
       "      <td>b'#Covid Watch \"CA person dies hours after rec...</td>\n",
       "      <td>0</td>\n",
       "      <td>Class B</td>\n",
       "    </tr>\n",
       "    <tr>\n",
       "      <td>1199</td>\n",
       "      <td>b'RT @marcorubio: Day after Trump issued a #Co...</td>\n",
       "      <td>5144</td>\n",
       "      <td>Class A</td>\n",
       "    </tr>\n",
       "  </tbody>\n",
       "</table>\n",
       "<p>1200 rows × 3 columns</p>\n",
       "</div>"
      ],
      "text/plain": [
       "                                             tweet_text  retweet_count  \\\n",
       "0     b\"RT @nmsu: #NMSU has hosted weekly #COVID-19 ...              8   \n",
       "1     b'RT @scrowder: Of course, the party (and medi...           1705   \n",
       "2     b'To everyone who is in #covid #lockdown and f...              0   \n",
       "3     b'RT @AshwiniBhide: Had the first dose of #COV...             67   \n",
       "4     b'RT @scrowder: Of course, the party (and medi...           1705   \n",
       "...                                                 ...            ...   \n",
       "1195  b'Doing some purging to pass the time and came...              0   \n",
       "1196  b'RT @lizmartinlabour: The sun setting on #bus...              4   \n",
       "1197  b'RT @scrowder: Of course, the party (and medi...           1705   \n",
       "1198  b'#Covid Watch \"CA person dies hours after rec...              0   \n",
       "1199  b'RT @marcorubio: Day after Trump issued a #Co...           5144   \n",
       "\n",
       "       target  \n",
       "0     Class B  \n",
       "1     Class A  \n",
       "2     Class B  \n",
       "3     Class B  \n",
       "4     Class A  \n",
       "...       ...  \n",
       "1195  Class B  \n",
       "1196  Class B  \n",
       "1197  Class A  \n",
       "1198  Class B  \n",
       "1199  Class A  \n",
       "\n",
       "[1200 rows x 3 columns]"
      ]
     },
     "execution_count": 26,
     "metadata": {},
     "output_type": "execute_result"
    }
   ],
   "source": [
    "data"
   ]
  },
  {
   "cell_type": "code",
   "execution_count": 27,
   "metadata": {},
   "outputs": [
    {
     "name": "stdout",
     "output_type": "stream",
     "text": [
      "Collecting tweet-preprocessor\n",
      "  Downloading https://files.pythonhosted.org/packages/17/9d/71bd016a9edcef8860c607e531f30bd09b13103c7951ae73dd2bf174163c/tweet_preprocessor-0.6.0-py3-none-any.whl\n",
      "Installing collected packages: tweet-preprocessor\n",
      "Successfully installed tweet-preprocessor-0.6.0\n"
     ]
    }
   ],
   "source": [
    "!pip install tweet-preprocessor"
   ]
  },
  {
   "cell_type": "code",
   "execution_count": 28,
   "metadata": {},
   "outputs": [],
   "source": [
    "import preprocessor as p\n",
    "\n",
    "data['cleaned_text'] = data['tweet_text'].apply(p.clean)"
   ]
  },
  {
   "cell_type": "code",
   "execution_count": 29,
   "metadata": {},
   "outputs": [
    {
     "data": {
      "text/html": [
       "<div>\n",
       "<style scoped>\n",
       "    .dataframe tbody tr th:only-of-type {\n",
       "        vertical-align: middle;\n",
       "    }\n",
       "\n",
       "    .dataframe tbody tr th {\n",
       "        vertical-align: top;\n",
       "    }\n",
       "\n",
       "    .dataframe thead th {\n",
       "        text-align: right;\n",
       "    }\n",
       "</style>\n",
       "<table border=\"1\" class=\"dataframe\">\n",
       "  <thead>\n",
       "    <tr style=\"text-align: right;\">\n",
       "      <th></th>\n",
       "      <th>tweet_text</th>\n",
       "      <th>cleaned_text</th>\n",
       "    </tr>\n",
       "  </thead>\n",
       "  <tbody>\n",
       "    <tr>\n",
       "      <td>0</td>\n",
       "      <td>b\"RT @nmsu: #NMSU has hosted weekly #COVID-19 ...</td>\n",
       "      <td>b\"RT : has hosted weekly distribution events t...</td>\n",
       "    </tr>\n",
       "    <tr>\n",
       "      <td>1</td>\n",
       "      <td>b'RT @scrowder: Of course, the party (and medi...</td>\n",
       "      <td>b'RT : Of course, the party (and media) that k...</td>\n",
       "    </tr>\n",
       "    <tr>\n",
       "      <td>2</td>\n",
       "      <td>b'To everyone who is in #covid #lockdown and f...</td>\n",
       "      <td>b'To everyone who is in and feeling like shit....</td>\n",
       "    </tr>\n",
       "    <tr>\n",
       "      <td>3</td>\n",
       "      <td>b'RT @AshwiniBhide: Had the first dose of #COV...</td>\n",
       "      <td>b'RT : Had the first dose of vaccine today at ...</td>\n",
       "    </tr>\n",
       "    <tr>\n",
       "      <td>4</td>\n",
       "      <td>b'RT @scrowder: Of course, the party (and medi...</td>\n",
       "      <td>b'RT : Of course, the party (and media) that k...</td>\n",
       "    </tr>\n",
       "    <tr>\n",
       "      <td>...</td>\n",
       "      <td>...</td>\n",
       "      <td>...</td>\n",
       "    </tr>\n",
       "    <tr>\n",
       "      <td>1195</td>\n",
       "      <td>b'Doing some purging to pass the time and came...</td>\n",
       "      <td>b'Doing some purging to pass the time and came...</td>\n",
       "    </tr>\n",
       "    <tr>\n",
       "      <td>1196</td>\n",
       "      <td>b'RT @lizmartinlabour: The sun setting on #bus...</td>\n",
       "      <td>b'RT : The sun setting on ... How to bring a c...</td>\n",
       "    </tr>\n",
       "    <tr>\n",
       "      <td>1197</td>\n",
       "      <td>b'RT @scrowder: Of course, the party (and medi...</td>\n",
       "      <td>b'RT : Of course, the party (and media) that k...</td>\n",
       "    </tr>\n",
       "    <tr>\n",
       "      <td>1198</td>\n",
       "      <td>b'#Covid Watch \"CA person dies hours after rec...</td>\n",
       "      <td>b' Watch \"CA person dies hours after receiving...</td>\n",
       "    </tr>\n",
       "    <tr>\n",
       "      <td>1199</td>\n",
       "      <td>b'RT @marcorubio: Day after Trump issued a #Co...</td>\n",
       "      <td>b'RT : Day after Trump issued a travel ban on ...</td>\n",
       "    </tr>\n",
       "  </tbody>\n",
       "</table>\n",
       "<p>1200 rows × 2 columns</p>\n",
       "</div>"
      ],
      "text/plain": [
       "                                             tweet_text  \\\n",
       "0     b\"RT @nmsu: #NMSU has hosted weekly #COVID-19 ...   \n",
       "1     b'RT @scrowder: Of course, the party (and medi...   \n",
       "2     b'To everyone who is in #covid #lockdown and f...   \n",
       "3     b'RT @AshwiniBhide: Had the first dose of #COV...   \n",
       "4     b'RT @scrowder: Of course, the party (and medi...   \n",
       "...                                                 ...   \n",
       "1195  b'Doing some purging to pass the time and came...   \n",
       "1196  b'RT @lizmartinlabour: The sun setting on #bus...   \n",
       "1197  b'RT @scrowder: Of course, the party (and medi...   \n",
       "1198  b'#Covid Watch \"CA person dies hours after rec...   \n",
       "1199  b'RT @marcorubio: Day after Trump issued a #Co...   \n",
       "\n",
       "                                           cleaned_text  \n",
       "0     b\"RT : has hosted weekly distribution events t...  \n",
       "1     b'RT : Of course, the party (and media) that k...  \n",
       "2     b'To everyone who is in and feeling like shit....  \n",
       "3     b'RT : Had the first dose of vaccine today at ...  \n",
       "4     b'RT : Of course, the party (and media) that k...  \n",
       "...                                                 ...  \n",
       "1195  b'Doing some purging to pass the time and came...  \n",
       "1196  b'RT : The sun setting on ... How to bring a c...  \n",
       "1197  b'RT : Of course, the party (and media) that k...  \n",
       "1198  b' Watch \"CA person dies hours after receiving...  \n",
       "1199  b'RT : Day after Trump issued a travel ban on ...  \n",
       "\n",
       "[1200 rows x 2 columns]"
      ]
     },
     "execution_count": 29,
     "metadata": {},
     "output_type": "execute_result"
    }
   ],
   "source": [
    "data[['tweet_text', 'cleaned_text']]"
   ]
  },
  {
   "cell_type": "code",
   "execution_count": 30,
   "metadata": {},
   "outputs": [],
   "source": [
    "cleaned_data = data[['cleaned_text','target']]"
   ]
  },
  {
   "cell_type": "code",
   "execution_count": 31,
   "metadata": {},
   "outputs": [
    {
     "data": {
      "text/html": [
       "<div>\n",
       "<style scoped>\n",
       "    .dataframe tbody tr th:only-of-type {\n",
       "        vertical-align: middle;\n",
       "    }\n",
       "\n",
       "    .dataframe tbody tr th {\n",
       "        vertical-align: top;\n",
       "    }\n",
       "\n",
       "    .dataframe thead th {\n",
       "        text-align: right;\n",
       "    }\n",
       "</style>\n",
       "<table border=\"1\" class=\"dataframe\">\n",
       "  <thead>\n",
       "    <tr style=\"text-align: right;\">\n",
       "      <th></th>\n",
       "      <th>cleaned_text</th>\n",
       "      <th>target</th>\n",
       "    </tr>\n",
       "  </thead>\n",
       "  <tbody>\n",
       "    <tr>\n",
       "      <td>0</td>\n",
       "      <td>b\"RT : has hosted weekly distribution events t...</td>\n",
       "      <td>Class B</td>\n",
       "    </tr>\n",
       "    <tr>\n",
       "      <td>1</td>\n",
       "      <td>b'RT : Of course, the party (and media) that k...</td>\n",
       "      <td>Class A</td>\n",
       "    </tr>\n",
       "    <tr>\n",
       "      <td>2</td>\n",
       "      <td>b'To everyone who is in and feeling like shit....</td>\n",
       "      <td>Class B</td>\n",
       "    </tr>\n",
       "    <tr>\n",
       "      <td>3</td>\n",
       "      <td>b'RT : Had the first dose of vaccine today at ...</td>\n",
       "      <td>Class B</td>\n",
       "    </tr>\n",
       "    <tr>\n",
       "      <td>4</td>\n",
       "      <td>b'RT : Of course, the party (and media) that k...</td>\n",
       "      <td>Class A</td>\n",
       "    </tr>\n",
       "  </tbody>\n",
       "</table>\n",
       "</div>"
      ],
      "text/plain": [
       "                                        cleaned_text   target\n",
       "0  b\"RT : has hosted weekly distribution events t...  Class B\n",
       "1  b'RT : Of course, the party (and media) that k...  Class A\n",
       "2  b'To everyone who is in and feeling like shit....  Class B\n",
       "3  b'RT : Had the first dose of vaccine today at ...  Class B\n",
       "4  b'RT : Of course, the party (and media) that k...  Class A"
      ]
     },
     "execution_count": 31,
     "metadata": {},
     "output_type": "execute_result"
    }
   ],
   "source": [
    "cleaned_data.head()"
   ]
  },
  {
   "cell_type": "code",
   "execution_count": 36,
   "metadata": {},
   "outputs": [],
   "source": [
    "from sklearn.feature_extraction.text import TfidfVectorizer\n",
    "\n",
    "X = cleaned_data[['cleaned_text']]\n",
    "y = cleaned_data[['target']]"
   ]
  },
  {
   "cell_type": "code",
   "execution_count": 38,
   "metadata": {},
   "outputs": [],
   "source": [
    "from sklearn.feature_extraction.text import TfidfVectorizer\n",
    "td = TfidfVectorizer(max_features = 4500)\n",
    "X = td.fit_transform(X['cleaned_text'].to_list()).toarray()"
   ]
  },
  {
   "cell_type": "code",
   "execution_count": 39,
   "metadata": {},
   "outputs": [],
   "source": [
    "\n",
    "from sklearn.model_selection import train_test_split"
   ]
  },
  {
   "cell_type": "code",
   "execution_count": 40,
   "metadata": {},
   "outputs": [],
   "source": [
    "X_train, X_test, y_train, y_test = train_test_split(X, y, test_size=0.30, random_state=100)"
   ]
  },
  {
   "cell_type": "code",
   "execution_count": 43,
   "metadata": {},
   "outputs": [
    {
     "data": {
      "text/plain": [
       "(1200, 3387)"
      ]
     },
     "execution_count": 43,
     "metadata": {},
     "output_type": "execute_result"
    }
   ],
   "source": [
    "X.shape"
   ]
  },
  {
   "cell_type": "code",
   "execution_count": 44,
   "metadata": {},
   "outputs": [
    {
     "name": "stderr",
     "output_type": "stream",
     "text": [
      "C:\\Users\\BOT-PC\\Anaconda3\\lib\\site-packages\\sklearn\\utils\\validation.py:724: DataConversionWarning: A column-vector y was passed when a 1d array was expected. Please change the shape of y to (n_samples, ), for example using ravel().\n",
      "  y = column_or_1d(y, warn=True)\n"
     ]
    },
    {
     "data": {
      "text/plain": [
       "MultinomialNB(alpha=1.0, class_prior=None, fit_prior=True)"
      ]
     },
     "execution_count": 44,
     "metadata": {},
     "output_type": "execute_result"
    }
   ],
   "source": [
    "from sklearn.naive_bayes import MultinomialNB\n",
    "classifier = MultinomialNB()\n",
    "classifier.fit(X_train, y_train)"
   ]
  },
  {
   "cell_type": "code",
   "execution_count": 45,
   "metadata": {},
   "outputs": [],
   "source": [
    "y_pred = classifier.predict(X_test)"
   ]
  },
  {
   "cell_type": "code",
   "execution_count": 46,
   "metadata": {},
   "outputs": [
    {
     "name": "stdout",
     "output_type": "stream",
     "text": [
      "\n",
      " Accuracy:  0.9805555555555555\n",
      "\n",
      "Classification Report\n",
      "=============================================\n",
      "\n",
      "               precision    recall  f1-score   support\n",
      "\n",
      "     Class A       1.00      0.89      0.94        64\n",
      "     Class B       0.98      1.00      0.99       296\n",
      "\n",
      "    accuracy                           0.98       360\n",
      "   macro avg       0.99      0.95      0.97       360\n",
      "weighted avg       0.98      0.98      0.98       360\n",
      "\n"
     ]
    }
   ],
   "source": [
    "from sklearn.metrics import accuracy_score, classification_report\n",
    "classification_report = classification_report(y_test, y_pred)\n",
    "\n",
    "print('\\n Accuracy: ', accuracy_score(y_test, y_pred))\n",
    "print('\\nClassification Report')\n",
    "print('=============================================')\n",
    "print('\\n', classification_report)"
   ]
  },
  {
   "cell_type": "code",
   "execution_count": null,
   "metadata": {},
   "outputs": [],
   "source": []
  }
 ],
 "metadata": {
  "kernelspec": {
   "display_name": "Python 3",
   "language": "python",
   "name": "python3"
  }
 },
 "nbformat": 4,
 "nbformat_minor": 2
}
